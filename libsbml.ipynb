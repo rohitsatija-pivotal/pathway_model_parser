{
 "cells": [
  {
   "cell_type": "markdown",
   "metadata": {},
   "source": [
    "# libSBML or bust!"
   ]
  },
  {
   "cell_type": "code",
   "execution_count": 4,
   "metadata": {},
   "outputs": [
    {
     "data": {
      "text/plain": [
       "[<Model pathway_2424491 \"DAP12 signaling\">, <ListOfCompartments[2]>, <Compartment compartment_70101 \"cytosol\">, <Compartment compartment_876 \"plasma membrane\">, <ListOfSpecies[36]>, <Species species_445010 \"RAC1:GDP [cytosol]\">, <Species species_113592 \"ATP [cytosol]\">, <Species species_2396548 \"LAT-2 [plasma membrane]\">, <Species species_2424457 \"p-5Y-LAT:GRB2:SOS1:GADS:p-3Y-SLP-76:PLCG:VAV:p-Y223,Y551-BTK [plasma membrane]\">, <Species species_109783 \"p21 RAS:GTP [plasma membrane]\">, <Species species_2424459 \"p-5Y-LAT:GRB2:SOS:GADS:p-3Y-SLP-76:p-2Y-BTK:VAV [plasma membrane]\">, <Species species_2424458 \"VAV2,VAV3 [cytosol]\">, <Species species_2395419 \"FYN,LCK [cytosol]\">, <Species species_179838 \"PI(3,4,5)P3 [plasma membrane]\">, <Species species_2424467 \"p-5Y-LAT:GRB2:SOS:GADS:p-3Y-SLP-76:p-2Y-BTK:VAV:p-PLCG [plasma membrane]\">, <Species species_2685672 \"p-SHC1:GRB2:SOS [cytosol]\">, <Species species_29438 \"GTP [cytosol]\">, <Species species_109796 \"p21 RAS:GDP [plasma membrane]\">, <Species species_2424461 \"p-5Y-LAT:GRB2:SOS1:GADS:p-Y113,Y128,Y145-SLP-76:PLCG:VAV:BTK:PIP3 [plasma membrane]\">, <Species species_2395430 \"DAP12 receptors:DAP12 dimer [plasma membrane]\">, <Species species_2424456 \"DAP12 Receptors:p-DAP12:p-6Y-SYK:PI3K [plasma membrane]\">, <Species species_2396597 \"p-5Y-LAT-2 [plasma membrane]\">, <Species species_2424468 \"p-5Y-LAT:p-SHC1:GRB2:SOS1 [plasma membrane]\">, <Species species_2395411 \"DAP12 Receptors:p-DAP12:p-6Y-SYK [plasma membrane]\">, <Species species_29420 \"GDP [cytosol]\">, <Species species_29370 \"ADP [cytosol]\">, <Species species_58268 \"SYK [cytosol]\">, <Species species_2395423 \"DAP12 receptors:p-Y91,Y102-DAP12 dimer [plasma membrane]\">, <Species species_442641 \"RAC1:GTP [plasma membrane]\">, <Species species_2424463 \"GADS:SLP76 [cytosol]\">, <Species species_2424464 \"p-5Y-LAT:p-SHC1:GRB2:SOS1:GADS:SLP76 [plasma membrane]\">, <Species species_2424460 \"p-5Y-LAT:p-SHC1:GRB2:SOS1:GADS:p-Y113,Y128,Y145-SLP-76:PLCG [plasma membrane]\">, <Species species_2396571 \"p-5Y-LAT:p-SHC1:GRB2:SOS1:GADS:SLP76:PLCG [plasma membrane]\">, <Species species_210250 \"DAP12 receptors:p-DAP12:SYK [plasma membrane]\">, <Species species_2685653 \"p-4Y-PLCG [plasma membrane]\">, <Species species_197948 \"BTK [cytosol]\">, <Species species_2424473 \"p-SYK/p-BTK [plasma membrane]\">, <Species species_74693 \"PI3K [cytosol]\">, <Species species_1169089 \"PLC gamma1,2 [cytosol]\">, <Species species_2424469 \"p-5Y-LAT:PLCG1:GADS:p-3Y-SLP-76:BTK:p-VAV [plasma membrane]\">, <Species species_179856 \"PI(4,5)P2 [plasma membrane]\">, <ListOfReactions[17]>, <Reaction reaction_2395801 \"Phosphorylation of LAT by p-SYK\">, <ListOfSpeciesReferences[2]>, <SpeciesReference speciesreference_2395801_input_2396548>, <SpeciesReference speciesreference_2395801_input_113592>, <ListOfSpeciesReferences[2]>, <SpeciesReference speciesreference_2395801_output_2396597>, <SpeciesReference speciesreference_2395801_output_29370>, <ListOfSpeciesReferences[1]>, <ModifierSpeciesReference modifierspeciesreference_2395801_catalyst_2395411>, <Reaction reaction_2424487 \"Phosphorylation of PLC-gamma by p-BTK/p-SYK\">, <ListOfSpeciesReferences[2]>, <SpeciesReference speciesreference_2424487_input_113592>, <SpeciesReference speciesreference_2424487_input_2424457>, <ListOfSpeciesReferences[2]>, <SpeciesReference speciesreference_2424487_output_2424467>, <SpeciesReference speciesreference_2424487_output_29370>, <ListOfSpeciesReferences[1]>, <ModifierSpeciesReference modifierspeciesreference_2424487_catalyst_2424473>, <Reaction reaction_2424482 \"p85 regulatory unit of PI3K binds p-6Y-SYK\">, <ListOfSpeciesReferences[2]>, <SpeciesReference speciesreference_2424482_input_2395411>, <SpeciesReference speciesreference_2424482_input_74693>, <ListOfSpeciesReferences[1]>, <SpeciesReference speciesreference_2424482_output_2424456>, <Reaction reaction_2396599 \"Recruitment of GRB2:SOS to p-5Y-LAT\">, <ListOfSpeciesReferences[2]>, <SpeciesReference speciesreference_2396599_input_2396597>, <SpeciesReference speciesreference_2396599_input_2685672>, <ListOfSpeciesReferences[1]>, <SpeciesReference speciesreference_2396599_output_2424468>, <Reaction reaction_2424477 \"SOS mediated nucleotide exchange of RAS (SHC)\">, <ListOfSpeciesReferences[2]>, <SpeciesReference speciesreference_2424477_input_109796>, <SpeciesReference speciesreference_2424477_input_29438>, <ListOfSpeciesReferences[2]>, <SpeciesReference speciesreference_2424477_output_29420>, <SpeciesReference speciesreference_2424477_output_109783>, <ListOfSpeciesReferences[1]>, <ModifierSpeciesReference modifierspeciesreference_2424477_catalyst_2424468>, <Reaction reaction_2396606 \"Recruitment of PLC-gamma to SLP-76 and p-5Y-LAT\">, <ListOfSpeciesReferences[2]>, <SpeciesReference speciesreference_2396606_input_1169089>, <SpeciesReference speciesreference_2396606_input_2424464>, <ListOfSpeciesReferences[1]>, <SpeciesReference speciesreference_2396606_output_2396571>, <Reaction reaction_2424484 \"Phosphorylation of BTK by p-SYK\">, <ListOfSpeciesReferences[2]>, <SpeciesReference speciesreference_2424484_input_2424461>, <SpeciesReference speciesreference_2424484_input_113592>, <ListOfSpeciesReferences[2]>, <SpeciesReference speciesreference_2424484_output_2424457>, <SpeciesReference speciesreference_2424484_output_29370>, <ListOfSpeciesReferences[1]>, <ModifierSpeciesReference modifierspeciesreference_2424484_catalyst_2395411>, <Reaction reaction_2424481 \"Recruitment of VAV and BTK to p-SLP-76\">, <ListOfSpeciesReferences[4]>, <SpeciesReference speciesreference_2424481_input_2424460>, <SpeciesReference speciesreference_2424481_input_2424458>, <SpeciesReference speciesreference_2424481_input_179838>, <SpeciesReference speciesreference_2424481_input_197948>, <ListOfSpeciesReferences[1]>, <SpeciesReference speciesreference_2424481_output_2424461>, <Reaction reaction_2396561 \"Recruitment of GADS:SLP-76 to p-5Y-LAT\">, <ListOfSpeciesReferences[2]>, <SpeciesReference speciesreference_2396561_input_2424468>, <SpeciesReference speciesreference_2396561_input_2424463>, <ListOfSpeciesReferences[1]>, <SpeciesReference speciesreference_2396561_output_2424464>, <Reaction reaction_210289 \"Recruitment of SYK to p-DAP12\">, <ListOfSpeciesReferences[2]>, <SpeciesReference speciesreference_210289_input_58268>, <SpeciesReference speciesreference_210289_input_2395423>, <ListOfSpeciesReferences[1]>, <SpeciesReference speciesreference_210289_output_210250>, <Reaction reaction_2424485 \"Release of p-PLCG1\">, <ListOfSpeciesReferences[1]>, <SpeciesReference speciesreference_2424485_input_2424467>, <ListOfSpeciesReferences[2]>, <SpeciesReference speciesreference_2424485_output_2685653>, <SpeciesReference speciesreference_2424485_output_2424459>, <Reaction reaction_2395412 \"Phosphorylation of SYK\">, <ListOfSpeciesReferences[2]>, <SpeciesReference speciesreference_2395412_input_113592>, <SpeciesReference speciesreference_2395412_input_210250>, <ListOfSpeciesReferences[2]>, <SpeciesReference speciesreference_2395412_output_2395411>, <SpeciesReference speciesreference_2395412_output_29370>, <ListOfSpeciesReferences[1]>, <ModifierSpeciesReference modifierspeciesreference_2395412_catalyst_210250>, <Reaction reaction_2424486 \"Phosphorylation and activation of VAV2/VAV3 by SYK\">, <ListOfSpeciesReferences[2]>, <SpeciesReference speciesreference_2424486_input_113592>, <SpeciesReference speciesreference_2424486_input_2424461>, <ListOfSpeciesReferences[2]>, <SpeciesReference speciesreference_2424486_output_29370>, <SpeciesReference speciesreference_2424486_output_2424469>, <ListOfSpeciesReferences[1]>, <ModifierSpeciesReference modifierspeciesreference_2424486_catalyst_2395411>, <Reaction reaction_2396594 \"Phosphorylation of SLP-76 by p-SYK\">, <ListOfSpeciesReferences[2]>, <SpeciesReference speciesreference_2396594_input_2396571>, <SpeciesReference speciesreference_2396594_input_113592>, <ListOfSpeciesReferences[2]>, <SpeciesReference speciesreference_2396594_output_2424460>, <SpeciesReference speciesreference_2396594_output_29370>, <ListOfSpeciesReferences[1]>, <ModifierSpeciesReference modifierspeciesreference_2396594_catalyst_2395411>, <Reaction reaction_2424476 \"Activation of RAC1 by VAV2/3\">, <ListOfSpeciesReferences[2]>, <SpeciesReference speciesreference_2424476_input_445010>, <SpeciesReference speciesreference_2424476_input_29438>, <ListOfSpeciesReferences[2]>, <SpeciesReference speciesreference_2424476_output_29420>, <SpeciesReference speciesreference_2424476_output_442641>, <ListOfSpeciesReferences[1]>, <ModifierSpeciesReference modifierspeciesreference_2424476_catalyst_2424469>, <Reaction reaction_2395439 \"Phosphorylation of DAP12\">, <ListOfSpeciesReferences[3]>, <SpeciesReference speciesreference_2395439_input_2395419>, <SpeciesReference speciesreference_2395439_input_113592>, <SpeciesReference speciesreference_2395439_input_2395430>, <ListOfSpeciesReferences[2]>, <SpeciesReference speciesreference_2395439_output_29370>, <SpeciesReference speciesreference_2395439_output_2395423>, <ListOfSpeciesReferences[1]>, <ModifierSpeciesReference modifierspeciesreference_2395439_catalyst_2395419>, <Reaction reaction_2424480 \"PI3K phosphorylates PIP2 to PIP3\">, <ListOfSpeciesReferences[2]>, <SpeciesReference speciesreference_2424480_input_113592>, <SpeciesReference speciesreference_2424480_input_179856>, <ListOfSpeciesReferences[2]>, <SpeciesReference speciesreference_2424480_output_179838>, <SpeciesReference speciesreference_2424480_output_29370>, <ListOfSpeciesReferences[1]>, <ModifierSpeciesReference modifierspeciesreference_2424480_catalyst_2424456>]"
      ]
     },
     "execution_count": 4,
     "metadata": {},
     "output_type": "execute_result"
    }
   ],
   "source": [
    "import libsbml\n",
    "\n",
    "sbml = libsbml.readSBMLFromFile('pathway_examples/R-HSA-2424491.sbml')\n",
    "sbml.all_elements"
   ]
  },
  {
   "cell_type": "code",
   "execution_count": null,
   "metadata": {},
   "outputs": [],
   "source": []
  }
 ],
 "metadata": {
  "kernelspec": {
   "display_name": "Python 3",
   "language": "python",
   "name": "python3"
  },
  "language_info": {
   "codemirror_mode": {
    "name": "ipython",
    "version": 3
   },
   "file_extension": ".py",
   "mimetype": "text/x-python",
   "name": "python",
   "nbconvert_exporter": "python",
   "pygments_lexer": "ipython3",
   "version": "3.9.6"
  }
 },
 "nbformat": 4,
 "nbformat_minor": 2
}
