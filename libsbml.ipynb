{
 "cells": [
  {
   "cell_type": "markdown",
   "metadata": {},
   "source": [
    "# libSBML or bust!"
   ]
  },
  {
   "cell_type": "code",
   "execution_count": 1,
   "metadata": {},
   "outputs": [
    {
     "data": {
      "text/plain": [
       "(<Model pathway_2424491 \"DAP12 signaling\">,\n",
       " 'http://www.sbml.org/sbml/level3/version1/core')"
      ]
     },
     "execution_count": 1,
     "metadata": {},
     "output_type": "execute_result"
    }
   ],
   "source": [
    "import libsbml\n",
    "\n",
    "sbml = libsbml.readSBMLFromFile('pathway_examples/R-HSA-2424491.sbml')\n",
    "sbml.getModel(), sbml.uri"
   ]
  },
  {
   "cell_type": "code",
   "execution_count": 2,
   "metadata": {},
   "outputs": [
    {
     "data": {
      "text/plain": [
       "[<Species species_445010 \"RAC1:GDP [cytosol]\">, <Species species_113592 \"ATP [cytosol]\">, <Species species_2396548 \"LAT-2 [plasma membrane]\">, <Species species_2424457 \"p-5Y-LAT:GRB2:SOS1:GADS:p-3Y-SLP-76:PLCG:VAV:p-Y223,Y551-BTK [plasma membrane]\">, <Species species_109783 \"p21 RAS:GTP [plasma membrane]\">, <Species species_2424459 \"p-5Y-LAT:GRB2:SOS:GADS:p-3Y-SLP-76:p-2Y-BTK:VAV [plasma membrane]\">, <Species species_2424458 \"VAV2,VAV3 [cytosol]\">, <Species species_2395419 \"FYN,LCK [cytosol]\">, <Species species_179838 \"PI(3,4,5)P3 [plasma membrane]\">, <Species species_2424467 \"p-5Y-LAT:GRB2:SOS:GADS:p-3Y-SLP-76:p-2Y-BTK:VAV:p-PLCG [plasma membrane]\">, <Species species_2685672 \"p-SHC1:GRB2:SOS [cytosol]\">, <Species species_29438 \"GTP [cytosol]\">, <Species species_109796 \"p21 RAS:GDP [plasma membrane]\">, <Species species_2424461 \"p-5Y-LAT:GRB2:SOS1:GADS:p-Y113,Y128,Y145-SLP-76:PLCG:VAV:BTK:PIP3 [plasma membrane]\">, <Species species_2395430 \"DAP12 receptors:DAP12 dimer [plasma membrane]\">, <Species species_2424456 \"DAP12 Receptors:p-DAP12:p-6Y-SYK:PI3K [plasma membrane]\">, <Species species_2396597 \"p-5Y-LAT-2 [plasma membrane]\">, <Species species_2424468 \"p-5Y-LAT:p-SHC1:GRB2:SOS1 [plasma membrane]\">, <Species species_2395411 \"DAP12 Receptors:p-DAP12:p-6Y-SYK [plasma membrane]\">, <Species species_29420 \"GDP [cytosol]\">, <Species species_29370 \"ADP [cytosol]\">, <Species species_58268 \"SYK [cytosol]\">, <Species species_2395423 \"DAP12 receptors:p-Y91,Y102-DAP12 dimer [plasma membrane]\">, <Species species_442641 \"RAC1:GTP [plasma membrane]\">, <Species species_2424463 \"GADS:SLP76 [cytosol]\">, <Species species_2424464 \"p-5Y-LAT:p-SHC1:GRB2:SOS1:GADS:SLP76 [plasma membrane]\">, <Species species_2424460 \"p-5Y-LAT:p-SHC1:GRB2:SOS1:GADS:p-Y113,Y128,Y145-SLP-76:PLCG [plasma membrane]\">, <Species species_2396571 \"p-5Y-LAT:p-SHC1:GRB2:SOS1:GADS:SLP76:PLCG [plasma membrane]\">, <Species species_210250 \"DAP12 receptors:p-DAP12:SYK [plasma membrane]\">, <Species species_2685653 \"p-4Y-PLCG [plasma membrane]\">, <Species species_197948 \"BTK [cytosol]\">, <Species species_2424473 \"p-SYK/p-BTK [plasma membrane]\">, <Species species_74693 \"PI3K [cytosol]\">, <Species species_1169089 \"PLC gamma1,2 [cytosol]\">, <Species species_2424469 \"p-5Y-LAT:PLCG1:GADS:p-3Y-SLP-76:BTK:p-VAV [plasma membrane]\">, <Species species_179856 \"PI(4,5)P2 [plasma membrane]\">]"
      ]
     },
     "execution_count": 2,
     "metadata": {},
     "output_type": "execute_result"
    }
   ],
   "source": [
    "species_list = sbml.all_elements[4]\n",
    "species_list.all_elements"
   ]
  },
  {
   "cell_type": "code",
   "execution_count": 3,
   "metadata": {},
   "outputs": [
    {
     "data": {
      "text/plain": [
       "('species', 'species_445010', 'RAC1:GDP [cytosol]')"
      ]
     },
     "execution_count": 3,
     "metadata": {},
     "output_type": "execute_result"
    }
   ],
   "source": [
    "species = species_list[0]\n",
    "species.getElementName(), species.getId(), species.getName()"
   ]
  },
  {
   "cell_type": "markdown",
   "metadata": {},
   "source": [
    "### What about the owl files?"
   ]
  },
  {
   "cell_type": "code",
   "execution_count": 5,
   "metadata": {},
   "outputs": [
    {
     "data": {
      "text/plain": [
       "(None, 'http://www.sbml.org/sbml/level3/version2/core')"
      ]
     },
     "execution_count": 5,
     "metadata": {},
     "output_type": "execute_result"
    }
   ],
   "source": [
    "owl = libsbml.readSBMLFromFile('pathway_examples/R-HSA-2424491_level3.owl')\n",
    "owl.getModel(), owl.uri"
   ]
  },
  {
   "cell_type": "code",
   "execution_count": 13,
   "metadata": {},
   "outputs": [
    {
     "data": {
      "text/plain": [
       "[]"
      ]
     },
     "execution_count": 13,
     "metadata": {},
     "output_type": "execute_result"
    }
   ],
   "source": [
    "owl.getListOfAllElements()"
   ]
  },
  {
   "cell_type": "markdown",
   "metadata": {},
   "source": [
    "### we can read .owl using python-sbml but it's pretty useless because we don't see anything in the owl model itself!"
   ]
  },
  {
   "cell_type": "code",
   "execution_count": null,
   "metadata": {},
   "outputs": [],
   "source": []
  }
 ],
 "metadata": {
  "kernelspec": {
   "display_name": "Python 3",
   "language": "python",
   "name": "python3"
  },
  "language_info": {
   "codemirror_mode": {
    "name": "ipython",
    "version": 3
   },
   "file_extension": ".py",
   "mimetype": "text/x-python",
   "name": "python",
   "nbconvert_exporter": "python",
   "pygments_lexer": "ipython3",
   "version": "3.9.6"
  }
 },
 "nbformat": 4,
 "nbformat_minor": 2
}
